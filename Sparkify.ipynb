{
 "cells": [
  {
   "cell_type": "markdown",
   "metadata": {},
   "source": [
    "# Sparkify"
   ]
  },
  {
   "cell_type": "markdown",
   "metadata": {},
   "source": [
    "## Table of Contents\n",
    "1. [Overview](#overview)\n",
    "2. [Load and Clean Dataset](#preprocess)\n",
    "    1. [Import necessary packages](#package)\n",
    "    2. [Preprocessing walkthrough](#walkthrough)\n",
    "3. [Exploratory Data Analysis](#eda)\n",
    "    1. [Define churn](#churn)\n",
    "    2. [Explore data](#exdata)\n",
    "4. [Feature Engineering](#feature_eng)\n",
    "5. [Modeling](#modeling)\n",
    "    1. [Metrics](#metrics)\n",
    "    2. [Baseline Model](#baseline)\n",
    "    3. [Logistic Regression](#lr)\n",
    "    4. [Gradient Boosted Trees](#gbt)\n",
    "    5. [Support Vector Machine](#svm)\n",
    "    6. [Random Forest](#rf)\n",
    "    7. [Model Summary](#model_summary)\n",
    "    8. [Hyper Params Tuning](#tuning)\n",
    "    9. [Best Model](#best_model)\n",
    "    10. [Best Model Metrics](#final_metrics)\n",
    "    11. [Feature Importance from GBTClassifier](#importance)\n",
    "6. [Conclusion](#conclusion)\n",
    "    1. [Summary](#conclusion)\n",
    "    2. [Reflection](#conclusion)\n",
    "    3. [Improvement](#conclusion)"
   ]
  },
  {
   "cell_type": "markdown",
   "metadata": {},
   "source": [
    "## Overview <a id='overview'></a>\n",
    "Sparkify is a music streaming service just as Spotify and Pandora. \n",
    "\n",
    "The data provided is the user log of the service, having demographic info, user activities, timestamps and etc. We try to analyze the log and build a model to identify customers who are highly likely to quit using our service, and thus, send marketing offers to them to prevent them from churning. \n",
    "\n",
    "We use F1 score to measure of model performance because we need precision and recall at the same time as we don't want to miss too many customers who are likely to churn whilst we don't want to waste too much on those who are not likely to churn. \n",
    "\n",
    "We performed EDA to establish features, and train several machine learning classification models.\n",
    "\n",
    "The model we built and selected has a F1 score of 0.800, which is 16% higher than sending everybody offers. There is also a short article about this project posted here."
   ]
  },
  {
   "cell_type": "markdown",
   "metadata": {},
   "source": [
    "**The problem that I will attempt to solve will be to predict customer churn in advance and I will be using spark (PySpark) and the Gradient boosting models classification.**"
   ]
  },
  {
   "cell_type": "markdown",
   "metadata": {},
   "source": [
    "## Load and Clean Dataset <a id='preprocess'></a>\n",
    "In this workspace, the filename is `medium-sparkify-event-data.json`."
   ]
  },
  {
   "cell_type": "markdown",
   "metadata": {},
   "source": [
    "* The chunk below is the starter code for using IBM-Watson cloud. I've already anonymized the credentials and config. IBM-Watson cloud will automatically generate this chunk of code once you upload your data from local."
   ]
  },
  {
   "cell_type": "code",
   "execution_count": null,
   "metadata": {},
   "outputs": [
    {
     "name": "stdout",
     "output_type": "stream",
     "text": [
      "Waiting for a Spark session to start...\n",
      "Spark Initialization Done! ApplicationId = app-20190117233955-0001\n",
      "KERNEL_ID = 2869154d-fb47-45ed-8bb8-8da2d9d2bafc\n"
     ]
    },
    {
     "data": {
      "text/plain": [
       "[Row(artist='Martin Orford', auth='Logged In', firstName='Joseph', gender='M', itemInSession=20, lastName='Morales', length=597.55057, level='free', location='Corpus Christi, TX', method='PUT', page='NextSong', registration=1532063507000, sessionId=292, song='Grand Designs', status=200, ts=1538352011000, userAgent='\"Mozilla/5.0 (Macintosh; Intel Mac OS X 10_9_4) AppleWebKit/537.36 (KHTML, like Gecko) Chrome/36.0.1985.125 Safari/537.36\"', userId='293'),\n",
       " Row(artist=\"John Brown's Body\", auth='Logged In', firstName='Sawyer', gender='M', itemInSession=74, lastName='Larson', length=380.21179, level='free', location='Houston-The Woodlands-Sugar Land, TX', method='PUT', page='NextSong', registration=1538069638000, sessionId=97, song='Bulls', status=200, ts=1538352025000, userAgent='\"Mozilla/5.0 (Macintosh; Intel Mac OS X 10_9_4) AppleWebKit/537.36 (KHTML, like Gecko) Chrome/36.0.1985.143 Safari/537.36\"', userId='98'),\n",
       " Row(artist='Afroman', auth='Logged In', firstName='Maverick', gender='M', itemInSession=184, lastName='Santiago', length=202.37016, level='paid', location='Orlando-Kissimmee-Sanford, FL', method='PUT', page='NextSong', registration=1535953455000, sessionId=178, song='Because I Got High', status=200, ts=1538352118000, userAgent='\"Mozilla/5.0 (Macintosh; Intel Mac OS X 10_9_4) AppleWebKit/537.36 (KHTML, like Gecko) Chrome/36.0.1985.143 Safari/537.36\"', userId='179'),\n",
       " Row(artist=None, auth='Logged In', firstName='Maverick', gender='M', itemInSession=185, lastName='Santiago', length=None, level='paid', location='Orlando-Kissimmee-Sanford, FL', method='PUT', page='Logout', registration=1535953455000, sessionId=178, song=None, status=307, ts=1538352119000, userAgent='\"Mozilla/5.0 (Macintosh; Intel Mac OS X 10_9_4) AppleWebKit/537.36 (KHTML, like Gecko) Chrome/36.0.1985.143 Safari/537.36\"', userId='179'),\n",
       " Row(artist='Lily Allen', auth='Logged In', firstName='Gianna', gender='F', itemInSession=22, lastName='Campos', length=194.53342, level='paid', location='Mobile, AL', method='PUT', page='NextSong', registration=1535931018000, sessionId=245, song='Smile (Radio Edit)', status=200, ts=1538352124000, userAgent='Mozilla/5.0 (Windows NT 6.1; WOW64; rv:31.0) Gecko/20100101 Firefox/31.0', userId='246')]"
      ]
     },
     "execution_count": 1,
     "metadata": {},
     "output_type": "execute_result"
    }
   ],
   "source": [
    "import ibmos2spark\n",
    "\n",
    "# @hidden_cell\n",
    "credentials = {\n",
    "    'endpoint': 'some_url',\n",
    "    'api_key': 'you_api_key',\n",
    "    'service_id': 'your_service_id',\n",
    "    'iam_service_endpoint': 'your_token'}\n",
    "\n",
    "configuration_name = 'os_a68347975ac949879ccd31e5ca85693c_configs'\n",
    "cos = ibmos2spark.CloudObjectStorage(sc, credentials, configuration_name, 'bluemix_cos')\n",
    "\n",
    "from pyspark.sql import SparkSession\n",
    "spark = SparkSession.builder.getOrCreate()\n",
    "# Since JSON data can be semi-structured and contain additional metadata, it is possible that you might face issues with the DataFrame layout.\n",
    "# Please read the documentation of 'SparkSession.read()' to learn more about the possibilities to adjust the data loading.\n",
    "# PySpark documentation: http://spark.apache.org/docs/2.0.2/api/python/pyspark.sql.html#pyspark.sql.DataFrameReader.json\n",
    "\n",
    "df_data_1 = spark.read.json(cos.url('medium-sparkify-event-data.json', 'your_project_name'))\n",
    "df_data_1.take(5)\n"
   ]
  },
  {
   "cell_type": "markdown",
   "metadata": {},
   "source": [
    "### Import necessary packages <a id='package'></a>"
   ]
  },
  {
   "cell_type": "code",
   "execution_count": 1,
   "metadata": {},
   "outputs": [],
   "source": [
    "# import pyspark related libraries\n",
    "from pyspark.sql.functions import avg, col, concat, desc, explode, lit, min, max, split, udf\n",
    "from pyspark.sql.functions import sum as Fsum\n",
    "from pyspark.sql.types import IntegerType\n",
    "from pyspark.sql import Window\n",
    "\n",
    "from pyspark.ml import Pipeline\n",
    "from pyspark.ml.classification import LogisticRegression, GBTClassifier,LinearSVC, RandomForestClassifier\n",
    "from pyspark.ml.evaluation import MulticlassClassificationEvaluator\n",
    "from pyspark.ml.feature import StandardScaler, VectorAssembler\n",
    "from pyspark.ml.tuning import CrossValidator, ParamGridBuilder\n",
    "\n",
    "# import pandas, matplotlib, and seaborn for visualization and EDA\n",
    "import pandas as pd\n",
    "import numpy as np\n",
    "import matplotlib.pyplot as plt\n",
    "import seaborn as sns\n",
    "\n",
    "# import datetime for parsing datetime object\n",
    "import datetime\n",
    "\n",
    "from time import time"
   ]
  },
  {
   "cell_type": "markdown",
   "metadata": {},
   "source": [
    "### Preprocessing walk through <a id='walkthrough'></a>\n",
    "1. Load the data from json file.\n",
    "2. Delete NAs.\n",
    "3. Remove rows with empty as `UserId`.\n",
    "4. Convert `gender` column to binary numeric column.\n",
    "5. Convert `ts` and `registration` columns to human readable time stamp format.\n",
    "6. Create `churn` column, 1 representing user has churned, 0 otherwise. If event `Cancellation Confirmation` observed, we assume the user has churned."
   ]
  },
  {
   "cell_type": "markdown",
   "metadata": {},
   "source": [
    "First, we clean our dataset, checking for invalid or missing data. For example, records without userids or sessionids. "
   ]
  },
  {
   "cell_type": "code",
   "execution_count": null,
   "metadata": {},
   "outputs": [],
   "source": [
    "# drop NAs\n",
    "df_valid = df_data_1.dropna(how = 'any', subset = ['userId', 'sessionId'])"
   ]
  },
  {
   "cell_type": "markdown",
   "metadata": {},
   "source": [
    "After dropping missing values, we found that missing userId is actually represented by an empty string as shown below. A record with empty userId is probably generated when the user didn't log in or havn't signed up yet, and it contributes little to our analysis afterwards. Therefore, we drop these rows with empty string as userId. "
   ]
  },
  {
   "cell_type": "code",
   "execution_count": null,
   "metadata": {},
   "outputs": [
    {
     "name": "stdout",
     "output_type": "stream",
     "text": [
      "+------+\n",
      "|userId|\n",
      "+------+\n",
      "|      |\n",
      "|    10|\n",
      "|   100|\n",
      "|100001|\n",
      "|100002|\n",
      "+------+\n",
      "only showing top 5 rows\n",
      "\n"
     ]
    }
   ],
   "source": [
    "# inspect 'userId' column\n",
    "df_valid.select('userId').dropDuplicates().sort('userId').show(5)\n",
    "# drop empty strings\n",
    "df_valid = df_valid.filter(df_valid['userId'] != '')"
   ]
  },
  {
   "cell_type": "markdown",
   "metadata": {},
   "source": [
    "## Exploratory Data Analysis <a id='eda'></a>\n",
    "When you're working with the full dataset, perform EDA by loading a small subset of the data and doing basic manipulations within Spark. In this workspace, you are already provided a small subset of data you can explore."
   ]
  },
  {
   "cell_type": "markdown",
   "metadata": {},
   "source": [
    "A glimpse of the data when are about to deal with."
   ]
  },
  {
   "cell_type": "code",
   "execution_count": null,
   "metadata": {},
   "outputs": [
    {
     "data": {
      "text/html": [
       "<div>\n",
       "<style scoped>\n",
       "    .dataframe tbody tr th:only-of-type {\n",
       "        vertical-align: middle;\n",
       "    }\n",
       "\n",
       "    .dataframe tbody tr th {\n",
       "        vertical-align: top;\n",
       "    }\n",
       "\n",
       "    .dataframe thead th {\n",
       "        text-align: right;\n",
       "    }\n",
       "</style>\n",
       "<table border=\"1\" class=\"dataframe\">\n",
       "  <thead>\n",
       "    <tr style=\"text-align: right;\">\n",
       "      <th></th>\n",
       "      <th>artist</th>\n",
       "      <th>auth</th>\n",
       "      <th>firstName</th>\n",
       "      <th>gender</th>\n",
       "      <th>itemInSession</th>\n",
       "      <th>lastName</th>\n",
       "      <th>length</th>\n",
       "      <th>level</th>\n",
       "      <th>location</th>\n",
       "      <th>method</th>\n",
       "      <th>page</th>\n",
       "      <th>registration</th>\n",
       "      <th>sessionId</th>\n",
       "      <th>song</th>\n",
       "      <th>status</th>\n",
       "      <th>ts</th>\n",
       "      <th>userAgent</th>\n",
       "      <th>userId</th>\n",
       "    </tr>\n",
       "  </thead>\n",
       "  <tbody>\n",
       "    <tr>\n",
       "      <th>0</th>\n",
       "      <td>Martin Orford</td>\n",
       "      <td>Logged In</td>\n",
       "      <td>Joseph</td>\n",
       "      <td>M</td>\n",
       "      <td>20</td>\n",
       "      <td>Morales</td>\n",
       "      <td>597.55057</td>\n",
       "      <td>free</td>\n",
       "      <td>Corpus Christi, TX</td>\n",
       "      <td>PUT</td>\n",
       "      <td>NextSong</td>\n",
       "      <td>1532063507000</td>\n",
       "      <td>292</td>\n",
       "      <td>Grand Designs</td>\n",
       "      <td>200</td>\n",
       "      <td>1538352011000</td>\n",
       "      <td>\"Mozilla/5.0 (Macintosh; Intel Mac OS X 10_9_4...</td>\n",
       "      <td>293</td>\n",
       "    </tr>\n",
       "    <tr>\n",
       "      <th>1</th>\n",
       "      <td>John Brown's Body</td>\n",
       "      <td>Logged In</td>\n",
       "      <td>Sawyer</td>\n",
       "      <td>M</td>\n",
       "      <td>74</td>\n",
       "      <td>Larson</td>\n",
       "      <td>380.21179</td>\n",
       "      <td>free</td>\n",
       "      <td>Houston-The Woodlands-Sugar Land, TX</td>\n",
       "      <td>PUT</td>\n",
       "      <td>NextSong</td>\n",
       "      <td>1538069638000</td>\n",
       "      <td>97</td>\n",
       "      <td>Bulls</td>\n",
       "      <td>200</td>\n",
       "      <td>1538352025000</td>\n",
       "      <td>\"Mozilla/5.0 (Macintosh; Intel Mac OS X 10_9_4...</td>\n",
       "      <td>98</td>\n",
       "    </tr>\n",
       "    <tr>\n",
       "      <th>2</th>\n",
       "      <td>Afroman</td>\n",
       "      <td>Logged In</td>\n",
       "      <td>Maverick</td>\n",
       "      <td>M</td>\n",
       "      <td>184</td>\n",
       "      <td>Santiago</td>\n",
       "      <td>202.37016</td>\n",
       "      <td>paid</td>\n",
       "      <td>Orlando-Kissimmee-Sanford, FL</td>\n",
       "      <td>PUT</td>\n",
       "      <td>NextSong</td>\n",
       "      <td>1535953455000</td>\n",
       "      <td>178</td>\n",
       "      <td>Because I Got High</td>\n",
       "      <td>200</td>\n",
       "      <td>1538352118000</td>\n",
       "      <td>\"Mozilla/5.0 (Macintosh; Intel Mac OS X 10_9_4...</td>\n",
       "      <td>179</td>\n",
       "    </tr>\n",
       "    <tr>\n",
       "      <th>3</th>\n",
       "      <td>None</td>\n",
       "      <td>Logged In</td>\n",
       "      <td>Maverick</td>\n",
       "      <td>M</td>\n",
       "      <td>185</td>\n",
       "      <td>Santiago</td>\n",
       "      <td>NaN</td>\n",
       "      <td>paid</td>\n",
       "      <td>Orlando-Kissimmee-Sanford, FL</td>\n",
       "      <td>PUT</td>\n",
       "      <td>Logout</td>\n",
       "      <td>1535953455000</td>\n",
       "      <td>178</td>\n",
       "      <td>None</td>\n",
       "      <td>307</td>\n",
       "      <td>1538352119000</td>\n",
       "      <td>\"Mozilla/5.0 (Macintosh; Intel Mac OS X 10_9_4...</td>\n",
       "      <td>179</td>\n",
       "    </tr>\n",
       "    <tr>\n",
       "      <th>4</th>\n",
       "      <td>Lily Allen</td>\n",
       "      <td>Logged In</td>\n",
       "      <td>Gianna</td>\n",
       "      <td>F</td>\n",
       "      <td>22</td>\n",
       "      <td>Campos</td>\n",
       "      <td>194.53342</td>\n",
       "      <td>paid</td>\n",
       "      <td>Mobile, AL</td>\n",
       "      <td>PUT</td>\n",
       "      <td>NextSong</td>\n",
       "      <td>1535931018000</td>\n",
       "      <td>245</td>\n",
       "      <td>Smile (Radio Edit)</td>\n",
       "      <td>200</td>\n",
       "      <td>1538352124000</td>\n",
       "      <td>Mozilla/5.0 (Windows NT 6.1; WOW64; rv:31.0) G...</td>\n",
       "      <td>246</td>\n",
       "    </tr>\n",
       "  </tbody>\n",
       "</table>\n",
       "</div>"
      ],
      "text/plain": [
       "              artist       auth firstName gender  itemInSession  lastName  \\\n",
       "0      Martin Orford  Logged In    Joseph      M             20   Morales   \n",
       "1  John Brown's Body  Logged In    Sawyer      M             74    Larson   \n",
       "2            Afroman  Logged In  Maverick      M            184  Santiago   \n",
       "3               None  Logged In  Maverick      M            185  Santiago   \n",
       "4         Lily Allen  Logged In    Gianna      F             22    Campos   \n",
       "\n",
       "      length level                              location method      page  \\\n",
       "0  597.55057  free                    Corpus Christi, TX    PUT  NextSong   \n",
       "1  380.21179  free  Houston-The Woodlands-Sugar Land, TX    PUT  NextSong   \n",
       "2  202.37016  paid         Orlando-Kissimmee-Sanford, FL    PUT  NextSong   \n",
       "3        NaN  paid         Orlando-Kissimmee-Sanford, FL    PUT    Logout   \n",
       "4  194.53342  paid                            Mobile, AL    PUT  NextSong   \n",
       "\n",
       "    registration  sessionId                song  status             ts  \\\n",
       "0  1532063507000        292       Grand Designs     200  1538352011000   \n",
       "1  1538069638000         97               Bulls     200  1538352025000   \n",
       "2  1535953455000        178  Because I Got High     200  1538352118000   \n",
       "3  1535953455000        178                None     307  1538352119000   \n",
       "4  1535931018000        245  Smile (Radio Edit)     200  1538352124000   \n",
       "\n",
       "                                           userAgent userId  \n",
       "0  \"Mozilla/5.0 (Macintosh; Intel Mac OS X 10_9_4...    293  \n",
       "1  \"Mozilla/5.0 (Macintosh; Intel Mac OS X 10_9_4...     98  \n",
       "2  \"Mozilla/5.0 (Macintosh; Intel Mac OS X 10_9_4...    179  \n",
       "3  \"Mozilla/5.0 (Macintosh; Intel Mac OS X 10_9_4...    179  \n",
       "4  Mozilla/5.0 (Windows NT 6.1; WOW64; rv:31.0) G...    246  "
      ]
     },
     "execution_count": 5,
     "metadata": {},
     "output_type": "execute_result"
    }
   ],
   "source": [
    "df_valid_pd = df_valid.toPandas()\n",
    "df_valid_pd.head()"
   ]
  },
  {
   "cell_type": "markdown",
   "metadata": {},
   "source": [
    "### Define Churn <a id='churn'></a>\n",
    "\n",
    "We defined a user as `churned` when there's an event called `Cancellation Confirmation` appeared in activity log. This event happens for both paid and free users, meaning that their account associated with us was terminated at the time. When also kept in track of a downgrade event, labeled as `Submit Downgrade` in activity log."
   ]
  },
  {
   "cell_type": "code",
   "execution_count": null,
   "metadata": {},
   "outputs": [],
   "source": [
    "# create downgrade label\n",
    "flag_downgrade_event = udf(lambda x: 1 if x == \"Submit Downgrade\" else 0, IntegerType())\n",
    "df_valid = df_valid.withColumn(\"downgrade_event\", flag_downgrade_event(\"page\"))\n",
    "\n",
    "# label user who've ever downgraded\n",
    "windowval = Window.partitionBy('userId')\n",
    "df_valid = df_valid.withColumn('downgrade', max('downgrade_event').over(windowval))\n",
    "\n",
    "# create churn label\n",
    "flag_churn_event = udf(lambda x: 1 if x == 'Cancellation Confirmation' else 0, IntegerType())\n",
    "df_valid = df_valid.withColumn('churn_event', flag_churn_event('page'))\n",
    "\n",
    "# label user who churned\n",
    "windowval = Window.partitionBy('userId')\n",
    "df_valid = df_valid.withColumn('churn', max('churn_event').over(windowval))"
   ]
  },
  {
   "cell_type": "code",
   "execution_count": null,
   "metadata": {},
   "outputs": [
    {
     "name": "stdout",
     "output_type": "stream",
     "text": [
      "+------+-----+---------+\n",
      "|userId|churn|downgrade|\n",
      "+------+-----+---------+\n",
      "|100010|    1|        0|\n",
      "|200002|    1|        0|\n",
      "|   296|    1|        0|\n",
      "|   125|    0|        0|\n",
      "|   124|    1|        0|\n",
      "|    51|    1|        0|\n",
      "|     7|    0|        0|\n",
      "|200037|    1|        0|\n",
      "|   169|    0|        0|\n",
      "|   205|    0|        0|\n",
      "|   272|    0|        0|\n",
      "|    15|    0|        0|\n",
      "|   232|    0|        1|\n",
      "|   234|    1|        0|\n",
      "|   282|    0|        0|\n",
      "|    54|    1|        0|\n",
      "|   155|    0|        0|\n",
      "|200043|    0|        0|\n",
      "|100014|    1|        0|\n",
      "|   132|    1|        0|\n",
      "+------+-----+---------+\n",
      "only showing top 20 rows\n",
      "\n"
     ]
    }
   ],
   "source": [
    "df_valid.select(['userId', 'churn', 'downgrade']).dropDuplicates().show(20)"
   ]
  },
  {
   "cell_type": "markdown",
   "metadata": {},
   "source": [
    "As shown in the table above, the time stamp columns aren't quite intuitive for human to read, so we put a little effort to convert these columns to a more human readable format."
   ]
  },
  {
   "cell_type": "code",
   "execution_count": null,
   "metadata": {},
   "outputs": [],
   "source": [
    "# add a time column to df\n",
    "convert_ts = udf(lambda x: datetime.datetime.fromtimestamp(x / 1000.0).strftime(\"%Y-%m-%d %H:%M:%S\"))\n",
    "df_valid = df_valid.withColumn('event_time', convert_ts('ts'))\n",
    "df_valid = df_valid.withColumn('registration_time', convert_ts('registration'))"
   ]
  },
  {
   "cell_type": "markdown",
   "metadata": {},
   "source": [
    "### Explore Data <a id='exdata'></a>"
   ]
  },
  {
   "cell_type": "markdown",
   "metadata": {},
   "source": [
    "#### Unique activities"
   ]
  },
  {
   "cell_type": "code",
   "execution_count": null,
   "metadata": {},
   "outputs": [
    {
     "name": "stdout",
     "output_type": "stream",
     "text": [
      "+--------------------+\n",
      "|                page|\n",
      "+--------------------+\n",
      "|              Cancel|\n",
      "|    Submit Downgrade|\n",
      "|         Thumbs Down|\n",
      "|                Home|\n",
      "|           Downgrade|\n",
      "|         Roll Advert|\n",
      "|              Logout|\n",
      "|       Save Settings|\n",
      "|Cancellation Conf...|\n",
      "|               About|\n",
      "|            Settings|\n",
      "|     Add to Playlist|\n",
      "|          Add Friend|\n",
      "|            NextSong|\n",
      "|           Thumbs Up|\n",
      "|                Help|\n",
      "|             Upgrade|\n",
      "|               Error|\n",
      "|      Submit Upgrade|\n",
      "+--------------------+\n",
      "\n"
     ]
    }
   ],
   "source": [
    "df_valid.select('page').dropDuplicates().show()"
   ]
  },
  {
   "cell_type": "markdown",
   "metadata": {},
   "source": [
    "There are mainly 19 activities that a user may have."
   ]
  },
  {
   "cell_type": "markdown",
   "metadata": {},
   "source": [
    "#### Customer lifetime statistics"
   ]
  },
  {
   "cell_type": "code",
   "execution_count": null,
   "metadata": {},
   "outputs": [],
   "source": [
    "lifetime_pd = df_valid.where('page == \"NextSong\" OR page == \"Thumbs Up\"').groupby(['userId', 'churn', 'gender', 'page']).count().toPandas()\n",
    "lifetime_pd = lifetime_pd.pivot_table(index=['userId','churn','gender'], values='count', columns='page').reset_index()"
   ]
  },
  {
   "cell_type": "code",
   "execution_count": null,
   "metadata": {},
   "outputs": [
    {
     "name": "stderr",
     "output_type": "stream",
     "text": [
      "/opt/ibm/conda/miniconda3/lib/python3.5/site-packages/seaborn/categorical.py:647: FutureWarning: remove_na is deprecated and is a private function. Do not use.\n",
      "  kde_data = remove_na(group_data[hue_mask])\n",
      "/opt/ibm/conda/miniconda3/lib/python3.5/site-packages/seaborn/categorical.py:942: FutureWarning: remove_na is deprecated and is a private function. Do not use.\n",
      "  violin_data = remove_na(group_data[hue_mask])\n"
     ]
    },
    {
     "data": {
      "image/png": "[encoded data removed]",
      "text/plain": [
       "<matplotlib.figure.Figure at 0x2afb3d3d23c8>"
      ]
     },
     "metadata": {},
     "output_type": "display_data"
    }
   ],
   "source": [
    "ax = sns.violinplot(data=lifetime_pd, x='churn', y='NextSong', hue='gender')\n",
    "plt.xlabel('Has customer churned?')\n",
    "plt.ylabel('Lifetime songs listened')\n",
    "plt.legend(title='Gender', loc='best')\n",
    "plt.title('Customer lifetime songs listened didn\\'t vary a lot')\n",
    "sns.despine(ax=ax);"
   ]
  },
  {
   "cell_type": "code",
   "execution_count": null,
   "metadata": {},
   "outputs": [
    {
     "name": "stderr",
     "output_type": "stream",
     "text": [
      "/opt/ibm/conda/miniconda3/lib/python3.5/site-packages/seaborn/categorical.py:647: FutureWarning: remove_na is deprecated and is a private function. Do not use.\n",
      "  kde_data = remove_na(group_data[hue_mask])\n",
      "/opt/ibm/conda/miniconda3/lib/python3.5/site-packages/seaborn/categorical.py:942: FutureWarning: remove_na is deprecated and is a private function. Do not use.\n",
      "  violin_data = remove_na(group_data[hue_mask])\n"
     ]
    },
    {
     "data": {
      "image/png": "[encoded data removed]",
      "text/plain": [
       "<matplotlib.figure.Figure at 0x2afb2f4bd128>"
      ]
     },
     "metadata": {},
     "output_type": "display_data"
    }
   ],
   "source": [
    "ax = sns.violinplot(data=lifetime_pd, x='churn', y='Thumbs Up', hue='gender')\n",
    "plt.xlabel('Has customer churned?')\n",
    "plt.ylabel('Lifetime songs liked')\n",
    "plt.legend(title='Gender', loc='best')\n",
    "plt.title('Customer lifetime songs liked didn\\'t vary a lot')\n",
    "sns.despine(ax=ax);"
   ]
  },
  {
   "cell_type": "markdown",
   "metadata": {},
   "source": [
    "#### Churn pattern between genders"
   ]
  },
  {
   "cell_type": "code",
   "execution_count": null,
   "metadata": {},
   "outputs": [
    {
     "name": "stderr",
     "output_type": "stream",
     "text": [
      "/opt/ibm/conda/miniconda3/lib/python3.5/site-packages/seaborn/categorical.py:1508: FutureWarning: remove_na is deprecated and is a private function. Do not use.\n",
      "  stat_data = remove_na(group_data[hue_mask])\n"
     ]
    },
    {
     "data": {
      "image/png": "[encoded data removed]",
      "text/plain": [
       "<matplotlib.figure.Figure at 0x2afb1c6a6eb8>"
      ]
     },
     "metadata": {},
     "output_type": "display_data"
    }
   ],
   "source": [
    "gender_churn_pd = df_valid.dropDuplicates([\"userId\", \"gender\"]).groupby([\"churn\", \"gender\"]).count().sort(\"churn\").toPandas()\n",
    "\n",
    "ax = sns.barplot(x='churn', y='count', hue='gender', data=gender_churn_pd)\n",
    "plt.xlabel('Has customer churned?')\n",
    "plt.ylabel('Count')\n",
    "plt.legend(title='Gender', loc='best')\n",
    "plt.title('Male customers are slightly likely to churn')\n",
    "sns.despine(ax=ax);"
   ]
  },
  {
   "cell_type": "markdown",
   "metadata": {},
   "source": [
    "#### Number of songs played per session"
   ]
  },
  {
   "cell_type": "code",
   "execution_count": null,
   "metadata": {},
   "outputs": [
    {
     "name": "stderr",
     "output_type": "stream",
     "text": [
      "/opt/ibm/conda/miniconda3/lib/python3.5/site-packages/seaborn/categorical.py:647: FutureWarning: remove_na is deprecated and is a private function. Do not use.\n",
      "  kde_data = remove_na(group_data[hue_mask])\n",
      "/opt/ibm/conda/miniconda3/lib/python3.5/site-packages/seaborn/categorical.py:942: FutureWarning: remove_na is deprecated and is a private function. Do not use.\n",
      "  violin_data = remove_na(group_data[hue_mask])\n"
     ]
    },
    {
     "data": {
      "image/png": "[encoded data removed]",
      "text/plain": [
       "<matplotlib.figure.Figure at 0x2afb1cc2d080>"
      ]
     },
     "metadata": {},
     "output_type": "display_data"
    }
   ],
   "source": [
    "songs_gender_pd = df_valid.where('page == \"NextSong\"').groupby(['churn', 'userId', 'sessionId','gender']).count()\\\n",
    "    .groupby(['churn', 'userId', 'gender']).agg({'count':'avg'})\\\n",
    "    .withColumnRenamed('avg(count)', 'avg_songs_played')\\\n",
    "    .toPandas()\n",
    "\n",
    "ax = sns.violinplot('churn', y='avg_songs_played', hue='gender', data=songs_gender_pd)\n",
    "plt.xlabel('Has customer churned?')\n",
    "plt.ylabel('Average songs played per session')\n",
    "plt.legend(title='Gender', loc='best', ncol=2)\n",
    "plt.title('Churned customers played less music per session')\n",
    "sns.despine(ax=ax);"
   ]
  },
  {
   "cell_type": "markdown",
   "metadata": {},
   "source": [
    "#### At which level do customers churn"
   ]
  },
  {
   "cell_type": "code",
   "execution_count": null,
   "metadata": {},
   "outputs": [
    {
     "name": "stderr",
     "output_type": "stream",
     "text": [
      "/opt/ibm/conda/miniconda3/lib/python3.5/site-packages/seaborn/categorical.py:1460: FutureWarning: remove_na is deprecated and is a private function. Do not use.\n",
      "  stat_data = remove_na(group_data)\n"
     ]
    },
    {
     "data": {
      "image/png": "[encoded data removed]",
      "text/plain": [
       "<matplotlib.figure.Figure at 0x2afb1d1e87b8>"
      ]
     },
     "metadata": {},
     "output_type": "display_data"
    }
   ],
   "source": [
    "level_pd = df_valid.filter('page == \"Cancellation Confirmation\"').groupby('level').count().toPandas()\n",
    "\n",
    "ax = sns.barplot(data=level_pd, x='level', y='count', color=sns.color_palette()[0])\n",
    "plt.xlabel('User level when churn')\n",
    "plt.ylabel('')\n",
    "plt.title('Churn usually happens when a customer is using a paid plan')\n",
    "sns.despine(ax=ax);"
   ]
  },
  {
   "cell_type": "markdown",
   "metadata": {},
   "source": [
    "#### Time since registration"
   ]
  },
  {
   "cell_type": "code",
   "execution_count": 36,
   "metadata": {},
   "outputs": [],
   "source": [
    "lt_pd = df_valid \\\n",
    "    .select('userId','registration','ts','churn') \\\n",
    "    .withColumn('lifetime',(df_valid.ts-df_valid.registration)) \\\n",
    "    .groupBy('userId','churn') \\\n",
    "    .agg({'lifetime':'max'}) \\\n",
    "    .withColumnRenamed('max(lifetime)','lifetime') \\\n",
    "    .select('userId', 'churn', (col('lifetime')/1000/3600/24).alias('lifetime')) \\\n",
    "    .toPandas()"
   ]
  },
  {
   "cell_type": "code",
   "execution_count": 43,
   "metadata": {},
   "outputs": [
    {
     "name": "stderr",
     "output_type": "stream",
     "text": [
      "/opt/ibm/conda/miniconda3/lib/python3.5/site-packages/seaborn/categorical.py:462: FutureWarning: remove_na is deprecated and is a private function. Do not use.\n",
      "  box_data = remove_na(group_data)\n"
     ]
    },
    {
     "data": {
      "image/png": "[encoded data removed]",
      "text/plain": [
       "<matplotlib.figure.Figure at 0x2afb3ae3f3c8>"
      ]
     },
     "metadata": {},
     "output_type": "display_data"
    }
   ],
   "source": [
    "ax = sns.boxplot(data=lt_pd, y='churn', x='lifetime', orient='h')\n",
    "plt.xlabel('Days since registration when churn')\n",
    "plt.ylabel('Has customer churned')\n",
    "plt.title('Churned customer use the service for a shorter period of time')\n",
    "sns.despine(ax=ax);"
   ]
  },
  {
   "cell_type": "markdown",
   "metadata": {},
   "source": [
    "## Feature Engineering <a id='feature_eng'></a>\n",
    "We've familiarized ourselves with the data, we begin to build out the features we find promising to train your model on. "
   ]
  },
  {
   "cell_type": "markdown",
   "metadata": {},
   "source": [
    "* The first feature we considered is the time length since the user registered. It may reflect the user engagement, loyality, and etc."
   ]
  },
  {
   "cell_type": "code",
   "execution_count": 18,
   "metadata": {},
   "outputs": [
    {
     "name": "stdout",
     "output_type": "stream",
     "text": [
      "+-------+------------------+-------------------+\n",
      "|summary|            userId|           lifetime|\n",
      "+-------+------------------+-------------------+\n",
      "|  count|               448|                448|\n",
      "|   mean| 67520.34821428571|  82.83222149884257|\n",
      "| stddev|105964.58428485187|  40.54572803476974|\n",
      "|    min|                10|-0.5227314814814815|\n",
      "|    max|                99|  390.3197569444444|\n",
      "+-------+------------------+-------------------+\n",
      "\n"
     ]
    }
   ],
   "source": [
    "# Time since registration\n",
    "f1 = df_valid \\\n",
    "    .select('userId','registration','ts') \\\n",
    "    .withColumn('lifetime',(df_valid.ts-df_valid.registration)) \\\n",
    "    .groupBy('userId') \\\n",
    "    .agg({'lifetime':'max'}) \\\n",
    "    .withColumnRenamed('max(lifetime)','lifetime') \\\n",
    "    .select('userId', (col('lifetime')/1000/3600/24).alias('lifetime'))\n",
    "f1.describe().show()"
   ]
  },
  {
   "cell_type": "markdown",
   "metadata": {},
   "source": [
    "* The second feature we considered is the total number of songs listened. The more songs the user listened, the more time the user spent with our service, the deeper engagement the user have, leading to less chance to churn."
   ]
  },
  {
   "cell_type": "code",
   "execution_count": 19,
   "metadata": {},
   "outputs": [
    {
     "name": "stdout",
     "output_type": "stream",
     "text": [
      "+-------+-----------------+------------------+\n",
      "|summary|           userID|       total_songs|\n",
      "+-------+-----------------+------------------+\n",
      "|  count|              448|               448|\n",
      "|   mean|67520.34821428571|1178.5825892857142|\n",
      "| stddev|105964.5842848519| 1380.627964752405|\n",
      "|    min|               10|                 3|\n",
      "|    max|               99|              9767|\n",
      "+-------+-----------------+------------------+\n",
      "\n"
     ]
    }
   ],
   "source": [
    "# Total songs listened\n",
    "f2 = df_valid \\\n",
    "    .select('userID','song') \\\n",
    "    .groupBy('userID') \\\n",
    "    .count() \\\n",
    "    .withColumnRenamed('count', 'total_songs')\n",
    "f2.describe().show()"
   ]
  },
  {
   "cell_type": "markdown",
   "metadata": {},
   "source": [
    "* The third and fourth features are number of thumbs up and down. They may reflect two perspectives, our service quality and user engagement."
   ]
  },
  {
   "cell_type": "code",
   "execution_count": 20,
   "metadata": {},
   "outputs": [
    {
     "name": "stdout",
     "output_type": "stream",
     "text": [
      "+-------+-----------------+-----------------+\n",
      "|summary|           userID|     num_thumb_up|\n",
      "+-------+-----------------+-----------------+\n",
      "|  count|              439|              439|\n",
      "|   mean|67308.81548974942|54.27334851936219|\n",
      "| stddev|106228.8040825479|69.94135178778983|\n",
      "|    min|               10|                1|\n",
      "|    max|               99|              506|\n",
      "+-------+-----------------+-----------------+\n",
      "\n",
      "+-------+-----------------+------------------+\n",
      "|summary|           userID|    num_thumb_down|\n",
      "+-------+-----------------+------------------+\n",
      "|  count|              389|               389|\n",
      "|   mean|70031.19537275065|12.624678663239074|\n",
      "| stddev|106895.7373531136|13.582432851937993|\n",
      "|    min|               10|                 1|\n",
      "|    max|               99|                80|\n",
      "+-------+-----------------+------------------+\n",
      "\n"
     ]
    }
   ],
   "source": [
    "# Number of Thumbs-Up/Down\n",
    "f3 = df_valid \\\n",
    "    .select('userID','page') \\\n",
    "    .where(df_valid.page == 'Thumbs Up') \\\n",
    "    .groupBy('userID') \\\n",
    "    .count() \\\n",
    "    .withColumnRenamed('count', 'num_thumb_up') \n",
    "f3.describe().show()\n",
    "f4 = df_valid \\\n",
    "    .select('userID','page') \\\n",
    "    .where(df_valid.page == 'Thumbs Down') \\\n",
    "    .groupBy('userID') \\\n",
    "    .count() \\\n",
    "    .withColumnRenamed('count', 'num_thumb_down')\n",
    "f4.describe().show()"
   ]
  },
  {
   "cell_type": "markdown",
   "metadata": {},
   "source": [
    "* The fifth feature is the number of songs added to the playlist, and it functioned as about the same as the 3rd and 4th feature."
   ]
  },
  {
   "cell_type": "code",
   "execution_count": 21,
   "metadata": {},
   "outputs": [
    {
     "name": "stdout",
     "output_type": "stream",
     "text": [
      "+-------+------------------+------------------+\n",
      "|summary|            userID|   add_to_playlist|\n",
      "+-------+------------------+------------------+\n",
      "|  count|               428|               428|\n",
      "|   mean| 65764.93457943926|28.852803738317757|\n",
      "| stddev|105363.38578382804|  33.9130906945663|\n",
      "|    min|                10|                 1|\n",
      "|    max|                99|               248|\n",
      "+-------+------------------+------------------+\n",
      "\n"
     ]
    }
   ],
   "source": [
    "# Number of songs added to playlist\n",
    "f5 = df_valid \\\n",
    "    .select('userID','page') \\\n",
    "    .where(df_valid.page == 'Add to Playlist') \\\n",
    "    .groupBy('userID') \\\n",
    "    .count() \\\n",
    "    .withColumnRenamed('count', 'add_to_playlist')\n",
    "f5.describe().show()"
   ]
  },
  {
   "cell_type": "markdown",
   "metadata": {},
   "source": [
    "* The sixth feature is the number of friends added."
   ]
  },
  {
   "cell_type": "code",
   "execution_count": 22,
   "metadata": {},
   "outputs": [
    {
     "name": "stdout",
     "output_type": "stream",
     "text": [
      "+-------+------------------+------------------+\n",
      "|summary|            userID|        add_friend|\n",
      "+-------+------------------+------------------+\n",
      "|  count|               409|               409|\n",
      "|   mean|  66368.3716381418|19.772616136919314|\n",
      "| stddev|106064.01609030597|22.494435766272833|\n",
      "|    min|                10|                 1|\n",
      "|    max|                99|               158|\n",
      "+-------+------------------+------------------+\n",
      "\n"
     ]
    }
   ],
   "source": [
    "# Number of friends added\n",
    "f6 = df_valid \\\n",
    "    .select('userID','page') \\\n",
    "    .where(df_valid.page == 'Add Friend') \\\n",
    "    .groupBy('userID') \\\n",
    "    .count() \\\n",
    "    .withColumnRenamed('count', 'add_friend') \n",
    "f6.describe().show()"
   ]
  },
  {
   "cell_type": "markdown",
   "metadata": {},
   "source": [
    "* The seventh feature is the length of listening, serving the same objective as the total number of songs listened, but in a time perspective."
   ]
  },
  {
   "cell_type": "code",
   "execution_count": 23,
   "metadata": {},
   "outputs": [
    {
     "name": "stdout",
     "output_type": "stream",
     "text": [
      "+-------+------------------+------------------+\n",
      "|summary|            userID|       listen_time|\n",
      "+-------+------------------+------------------+\n",
      "|  count|               448|               448|\n",
      "|   mean| 67520.34821428571| 240270.4976090624|\n",
      "| stddev|105964.58428485188|286257.95260453084|\n",
      "|    min|                10|         131.00363|\n",
      "|    max|                99| 2019435.103940004|\n",
      "+-------+------------------+------------------+\n",
      "\n"
     ]
    }
   ],
   "source": [
    "# Total length of listening\n",
    "f7 = df_valid \\\n",
    "    .select('userID','length') \\\n",
    "    .groupBy('userID') \\\n",
    "    .sum() \\\n",
    "    .withColumnRenamed('sum(length)', 'listen_time')\n",
    "f7.describe().show()"
   ]
  },
  {
   "cell_type": "markdown",
   "metadata": {},
   "source": [
    "* The eighth feature is the average number of songs listened per session"
   ]
  },
  {
   "cell_type": "code",
   "execution_count": 24,
   "metadata": {},
   "outputs": [
    {
     "name": "stdout",
     "output_type": "stream",
     "text": [
      "+-------+------------------+-----------------+\n",
      "|summary|            userId| avg_songs_played|\n",
      "+-------+------------------+-----------------+\n",
      "|  count|               448|              448|\n",
      "|   mean| 67520.34821428571|65.61168409976808|\n",
      "| stddev|105964.58428485187|39.49496566617269|\n",
      "|    min|                10|              1.0|\n",
      "|    max|                99|            360.0|\n",
      "+-------+------------------+-----------------+\n",
      "\n"
     ]
    }
   ],
   "source": [
    "# Number of songs listened per session\n",
    "f8 = df_valid.where('page == \"NextSong\"') \\\n",
    "    .groupby(['userId', 'sessionId']) \\\n",
    "    .count() \\\n",
    "    .groupby(['userId']) \\\n",
    "    .agg({'count':'avg'}) \\\n",
    "    .withColumnRenamed('avg(count)', 'avg_songs_played')\n",
    "f8.describe().show()"
   ]
  },
  {
   "cell_type": "markdown",
   "metadata": {},
   "source": [
    "* The ninth feature is the gender, as we want to include some demographic information about the user, and there are differences between genders in terms of chance to churn."
   ]
  },
  {
   "cell_type": "code",
   "execution_count": 25,
   "metadata": {},
   "outputs": [
    {
     "name": "stdout",
     "output_type": "stream",
     "text": [
      "+-------+------------------+------------------+\n",
      "|summary|            userId|            gender|\n",
      "+-------+------------------+------------------+\n",
      "|  count|               448|               448|\n",
      "|   mean| 67520.34821428571|0.4419642857142857|\n",
      "| stddev|105964.58428485187|0.4971756279079039|\n",
      "|    min|                10|                 0|\n",
      "|    max|                99|                 1|\n",
      "+-------+------------------+------------------+\n",
      "\n"
     ]
    }
   ],
   "source": [
    "# Gender\n",
    "f9 = df_valid \\\n",
    "    .select(\"userId\", \"gender\") \\\n",
    "    .dropDuplicates() \\\n",
    "    .replace(['M', 'F'], ['0', '1'], 'gender') \\\n",
    "    .select('userId', col('gender').cast('int'))\n",
    "f9.describe().show()"
   ]
  },
  {
   "cell_type": "markdown",
   "metadata": {},
   "source": [
    "* The tenth feature is the number of artists listened. "
   ]
  },
  {
   "cell_type": "code",
   "execution_count": 26,
   "metadata": {},
   "outputs": [
    {
     "name": "stdout",
     "output_type": "stream",
     "text": [
      "+-------+------------------+-----------------+\n",
      "|summary|            userId|     artist_count|\n",
      "+-------+------------------+-----------------+\n",
      "|  count|               448|              448|\n",
      "|   mean| 67520.34821428571|658.9799107142857|\n",
      "| stddev|105964.58428485188|625.8826980519568|\n",
      "|    min|                10|                1|\n",
      "|    max|                99|             3507|\n",
      "+-------+------------------+-----------------+\n",
      "\n"
     ]
    }
   ],
   "source": [
    "# Number of artists listened\n",
    "f10 = df_valid \\\n",
    "    .filter(df_valid.page==\"NextSong\") \\\n",
    "    .select(\"userId\", \"artist\") \\\n",
    "    .dropDuplicates() \\\n",
    "    .groupby(\"userId\") \\\n",
    "    .count() \\\n",
    "    .withColumnRenamed(\"count\", \"artist_count\")\n",
    "f10.describe().show()"
   ]
  },
  {
   "cell_type": "markdown",
   "metadata": {},
   "source": [
    "* At last, we have the churn label"
   ]
  },
  {
   "cell_type": "code",
   "execution_count": 27,
   "metadata": {},
   "outputs": [
    {
     "name": "stdout",
     "output_type": "stream",
     "text": [
      "+-------+------------------+-------------------+\n",
      "|summary|            userId|              label|\n",
      "+-------+------------------+-------------------+\n",
      "|  count|               448|                448|\n",
      "|   mean| 67520.34821428571|0.22098214285714285|\n",
      "| stddev|105964.58428485187| 0.4153723104396361|\n",
      "|    min|                10|                  0|\n",
      "|    max|                99|                  1|\n",
      "+-------+------------------+-------------------+\n",
      "\n"
     ]
    }
   ],
   "source": [
    "# Churn label\n",
    "label = df_valid \\\n",
    "    .select('userId', col('churn').alias('label')) \\\n",
    "    .dropDuplicates()\n",
    "label.describe().show()"
   ]
  },
  {
   "cell_type": "markdown",
   "metadata": {},
   "source": [
    "Then we merge all features and label together."
   ]
  },
  {
   "cell_type": "code",
   "execution_count": 56,
   "metadata": {},
   "outputs": [
    {
     "name": "stdout",
     "output_type": "stream",
     "text": [
      "+------------------+-----------+------------+--------------+---------------+----------+------------------+------------------+------+------------+-----+\n",
      "|          lifetime|total_songs|num_thumb_up|num_thumb_down|add_to_playlist|add_friend|       listen_time|  avg_songs_played|gender|artist_count|label|\n",
      "+------------------+-----------+------------+--------------+---------------+----------+------------------+------------------+------+------------+-----+\n",
      "|14.328449074074074|        137|           4|             3|              1|         3|25870.950739999997|              48.0|     1|          94|    1|\n",
      "| 53.32314814814814|        395|          15|             5|              6|         2| 78695.82683999998|              62.0|     0|         287|    1|\n",
      "| 26.63826388888889|        152|           8|             0|              3|         2|28314.150059999996|              22.4|     1|         108|    1|\n",
      "|105.42211805555554|         84|           3|             1|              2|         3|15813.771070000003|20.666666666666668|     0|          61|    0|\n",
      "| 112.5537962962963|       2156|         102|            15|             45|        26|      456664.04058|           114.125|     1|        1240|    1|\n",
      "+------------------+-----------+------------+--------------+---------------+----------+------------------+------------------+------+------------+-----+\n",
      "only showing top 5 rows\n",
      "\n"
     ]
    }
   ],
   "source": [
    "# Construct \n",
    "data = f1.join(f2,'userID','outer') \\\n",
    "    .join(f3,'userID','outer') \\\n",
    "    .join(f4,'userID','outer') \\\n",
    "    .join(f5,'userID','outer') \\\n",
    "    .join(f6,'userID','outer') \\\n",
    "    .join(f7,'userID','outer') \\\n",
    "    .join(f8,'userID','outer') \\\n",
    "    .join(f9,'userID','outer') \\\n",
    "    .join(f10,'userID','outer') \\\n",
    "    .join(label,'userID','outer') \\\n",
    "    .drop('userID') \\\n",
    "    .fillna(0)\n",
    "\n",
    "data.show(5)"
   ]
  },
  {
   "cell_type": "markdown",
   "metadata": {},
   "source": [
    "## Modeling <a id='modeling'></a>"
   ]
  },
  {
   "cell_type": "markdown",
   "metadata": {},
   "source": [
    "### Metrics <a id='metrics'></a>\n",
    "We select F-1 score as our evaluation metrics. The reason we use F-1 score here is because it gives us a simple measure of the precision (whether we send offer to the right person) and recall (whether we miss one that we should’ve sent the offer) of the model. We want to identify those who are likely to churn and give them some special offers in trying to keep the customer, but at the same time, we do not want to send too many offers (most likely a monetary incentive) to those who are not as likely to churn and therefore wasting money and resources."
   ]
  },
  {
   "cell_type": "markdown",
   "metadata": {},
   "source": [
    "First we need to vectorize our features."
   ]
  },
  {
   "cell_type": "code",
   "execution_count": 57,
   "metadata": {},
   "outputs": [],
   "source": [
    "# Vector assembler\n",
    "cols = [\"lifetime\", \"total_songs\", \"num_thumb_up\", \\\n",
    "          'num_thumb_down','add_to_playlist','add_friend','listen_time','avg_songs_played', \\\n",
    "        'gender', 'artist_count']\n",
    "assembler = VectorAssembler(inputCols=cols, outputCol=\"NumFeatures\")\n",
    "data = assembler.transform(data)"
   ]
  },
  {
   "cell_type": "markdown",
   "metadata": {},
   "source": [
    "In order to avoid one feature with larger scale dominant the whole model, we standardize the features by taking off the mean and divided by the standard deviation of each feature."
   ]
  },
  {
   "cell_type": "code",
   "execution_count": 58,
   "metadata": {},
   "outputs": [],
   "source": [
    "# standard scaler\n",
    "scaler = StandardScaler(inputCol=\"NumFeatures\", outputCol=\"features\", withStd=True)\n",
    "scalerModel = scaler.fit(data)\n",
    "data = scalerModel.transform(data)"
   ]
  },
  {
   "cell_type": "markdown",
   "metadata": {},
   "source": [
    "Then we split the data into train, validation, and test sets by calling `randomSplit` method twice. We can also conduct a stratified sampling as our label is pretty skewed."
   ]
  },
  {
   "cell_type": "code",
   "execution_count": 59,
   "metadata": {},
   "outputs": [],
   "source": [
    "# train test split\n",
    "train, rest = data.randomSplit([0.6, 0.4], seed=42)\n",
    "validation, test = rest.randomSplit([0.5, 0.5], seed=42)"
   ]
  },
  {
   "cell_type": "markdown",
   "metadata": {},
   "source": [
    "#### Baseline Model <a id='baseline'></a>"
   ]
  },
  {
   "cell_type": "markdown",
   "metadata": {},
   "source": [
    "We evaluate two baseline models, one with all users labelled as `churn = 1`, one with all users labelled as `churn = 0`. And we calculated the model accuracy and f1 score."
   ]
  },
  {
   "cell_type": "code",
   "execution_count": 66,
   "metadata": {},
   "outputs": [],
   "source": [
    "results_base_all_1 = test.withColumn('prediction', lit(1.0))"
   ]
  },
  {
   "cell_type": "code",
   "execution_count": 67,
   "metadata": {},
   "outputs": [
    {
     "name": "stdout",
     "output_type": "stream",
     "text": [
      "Test set metrics:\n",
      "Accuracy: 0.20833333333333334\n",
      "F-1 Score:0.07183908045977012\n"
     ]
    }
   ],
   "source": [
    "evaluator = MulticlassClassificationEvaluator(predictionCol=\"prediction\")\n",
    "print('Test set metrics:')\n",
    "print('Accuracy: {}'.format(evaluator.evaluate(results_base_all_1, {evaluator.metricName: \"accuracy\"})))\n",
    "print('F-1 Score:{}'.format(evaluator.evaluate(results_base_all_1, {evaluator.metricName: \"f1\"})))"
   ]
  },
  {
   "cell_type": "code",
   "execution_count": 68,
   "metadata": {},
   "outputs": [],
   "source": [
    "results_base_all_0 = test.withColumn('prediction', lit(0.0))"
   ]
  },
  {
   "cell_type": "code",
   "execution_count": 69,
   "metadata": {},
   "outputs": [
    {
     "name": "stdout",
     "output_type": "stream",
     "text": [
      "Test set metrics:\n",
      "Accuracy: 0.7916666666666666\n",
      "F-1 Score:0.6996124031007752\n"
     ]
    }
   ],
   "source": [
    "evaluator = MulticlassClassificationEvaluator(predictionCol=\"prediction\")\n",
    "print('Test set metrics:')\n",
    "print('Accuracy: {}'.format(evaluator.evaluate(results_base_all_0, {evaluator.metricName: \"accuracy\"})))\n",
    "print('F-1 Score:{}'.format(evaluator.evaluate(results_base_all_0, {evaluator.metricName: \"f1\"})))"
   ]
  },
  {
   "cell_type": "markdown",
   "metadata": {},
   "source": [
    "As we can see, the baseline model of labelling all users with `churn = 0` actually does a descent job on test set, with accuracy of 79.2% and f1 score of 0.6996."
   ]
  },
  {
   "cell_type": "markdown",
   "metadata": {},
   "source": [
    "Then we evaluate four different models, using cross validation to minimize the chance of overfitting, and grid search to tune our model. After evaluating the four models on validation set, we pick the best one based on the f1 score on that and train the best model on training set again then to evaluate on test set."
   ]
  },
  {
   "cell_type": "markdown",
   "metadata": {},
   "source": [
    "#### Logistic Regression <a id='lr'></a>"
   ]
  },
  {
   "cell_type": "code",
   "execution_count": 50,
   "metadata": {},
   "outputs": [],
   "source": [
    "# initialize classifier\n",
    "lr = LogisticRegression(maxIter=10)\n",
    "\n",
    "# set evaluator\n",
    "f1_evaluator = MulticlassClassificationEvaluator(metricName='f1')\n",
    "\n",
    "# build paramGrid\n",
    "paramGrid = ParamGridBuilder() \\\n",
    "    .build()\n",
    "\n",
    "crossval_lr = CrossValidator(estimator=lr,\n",
    "                          evaluator=f1_evaluator, \n",
    "                          estimatorParamMaps=paramGrid,\n",
    "                          numFolds=3)"
   ]
  },
  {
   "cell_type": "code",
   "execution_count": 51,
   "metadata": {},
   "outputs": [
    {
     "name": "stdout",
     "output_type": "stream",
     "text": [
      "The training process took 1047.4673156738281 seconds\n"
     ]
    }
   ],
   "source": [
    "start = time()\n",
    "cvModel_lr = crossval_lr.fit(train)\n",
    "end = time()\n",
    "cvModel_lr.avgMetrics\n",
    "print('The training process took {} seconds'.format(end - start))"
   ]
  },
  {
   "cell_type": "code",
   "execution_count": 52,
   "metadata": {},
   "outputs": [],
   "source": [
    "results_lr = cvModel_lr.transform(validation)"
   ]
  },
  {
   "cell_type": "code",
   "execution_count": 53,
   "metadata": {},
   "outputs": [
    {
     "name": "stdout",
     "output_type": "stream",
     "text": [
      "Logistic Regression Metrics:\n",
      "Accuracy: 0.7346938775510204\n",
      "F-1 Score:0.6223289315726291\n"
     ]
    }
   ],
   "source": [
    "evaluator = MulticlassClassificationEvaluator(predictionCol=\"prediction\")\n",
    "print('Logistic Regression Metrics:')\n",
    "print('Accuracy: {}'.format(evaluator.evaluate(results_lr, {evaluator.metricName: \"accuracy\"})))\n",
    "print('F-1 Score:{}'.format(evaluator.evaluate(results_lr, {evaluator.metricName: \"f1\"})))"
   ]
  },
  {
   "cell_type": "markdown",
   "metadata": {},
   "source": [
    "#### Gradient Boosted Trees <a id='gbt'></a>"
   ]
  },
  {
   "cell_type": "code",
   "execution_count": 54,
   "metadata": {},
   "outputs": [],
   "source": [
    "# initialize classifier\n",
    "gbt = GBTClassifier(maxIter=10,seed=42)\n",
    "\n",
    "# set evaluator\n",
    "f1_evaluator = MulticlassClassificationEvaluator(metricName='f1')\n",
    "\n",
    "# build paramGrid\n",
    "paramGrid = ParamGridBuilder() \\\n",
    "    .build()\n",
    "\n",
    "crossval_gbt = CrossValidator(estimator=gbt,\n",
    "                          estimatorParamMaps=paramGrid,\n",
    "                          evaluator=f1_evaluator,\n",
    "                          numFolds=3)"
   ]
  },
  {
   "cell_type": "code",
   "execution_count": 55,
   "metadata": {},
   "outputs": [
    {
     "name": "stdout",
     "output_type": "stream",
     "text": [
      "The training process took 1560.4856595993042 seconds\n"
     ]
    }
   ],
   "source": [
    "start = time()\n",
    "cvModel_gbt = crossval_gbt.fit(train)\n",
    "end = time()\n",
    "cvModel_gbt.avgMetrics\n",
    "print('The training process took {} seconds'.format(end - start))"
   ]
  },
  {
   "cell_type": "code",
   "execution_count": 56,
   "metadata": {},
   "outputs": [],
   "source": [
    "results_gbt = cvModel_gbt.transform(validation)"
   ]
  },
  {
   "cell_type": "code",
   "execution_count": 57,
   "metadata": {},
   "outputs": [
    {
     "name": "stdout",
     "output_type": "stream",
     "text": [
      "Gradient Boosted Trees Metrics:\n",
      "Accuracy: 0.7755102040816326\n",
      "F-1 Score:0.7560738581146744\n"
     ]
    }
   ],
   "source": [
    "evaluator = MulticlassClassificationEvaluator(predictionCol=\"prediction\")\n",
    "print('Gradient Boosted Trees Metrics:')\n",
    "print('Accuracy: {}'.format(evaluator.evaluate(results_gbt, {evaluator.metricName: \"accuracy\"})))\n",
    "print('F-1 Score:{}'.format(evaluator.evaluate(results_gbt, {evaluator.metricName: \"f1\"})))"
   ]
  },
  {
   "cell_type": "markdown",
   "metadata": {},
   "source": [
    "#### Support Vector Machine <a id='svm'></a>"
   ]
  },
  {
   "cell_type": "code",
   "execution_count": 58,
   "metadata": {},
   "outputs": [],
   "source": [
    "# initialize classifier\n",
    "svm = LinearSVC(maxIter=10)\n",
    "\n",
    "# set evaluator\n",
    "f1_evaluator = MulticlassClassificationEvaluator(metricName='f1')\n",
    "\n",
    "# build paramGrid\n",
    "paramGrid = ParamGridBuilder() \\\n",
    "    .build()\n",
    "\n",
    "crossval_svm = CrossValidator(estimator=svm,\n",
    "                          estimatorParamMaps=paramGrid,\n",
    "                          evaluator=f1_evaluator,\n",
    "                          numFolds=3)"
   ]
  },
  {
   "cell_type": "code",
   "execution_count": 59,
   "metadata": {},
   "outputs": [
    {
     "name": "stdout",
     "output_type": "stream",
     "text": [
      "The training process took 1183.9568738937378 seconds\n"
     ]
    }
   ],
   "source": [
    "start = time()\n",
    "cvModel_svm = crossval_svm.fit(train)\n",
    "end = time()\n",
    "cvModel_svm.avgMetrics\n",
    "print('The training process took {} seconds'.format(end - start))"
   ]
  },
  {
   "cell_type": "code",
   "execution_count": 60,
   "metadata": {},
   "outputs": [],
   "source": [
    "results_svm = cvModel_svm.transform(validation)"
   ]
  },
  {
   "cell_type": "code",
   "execution_count": 61,
   "metadata": {},
   "outputs": [
    {
     "name": "stdout",
     "output_type": "stream",
     "text": [
      "SVM Metrics:\n",
      "Accuracy: 0.7346938775510204\n",
      "F-1 Score:0.6223289315726291\n"
     ]
    }
   ],
   "source": [
    "evaluator = MulticlassClassificationEvaluator(predictionCol=\"prediction\")\n",
    "print('SVM Metrics:')\n",
    "print('Accuracy: {}'.format(evaluator.evaluate(results_svm, {evaluator.metricName: \"accuracy\"})))\n",
    "print('F-1 Score:{}'.format(evaluator.evaluate(results_svm, {evaluator.metricName: \"f1\"})))"
   ]
  },
  {
   "cell_type": "markdown",
   "metadata": {},
   "source": [
    "#### Random Forest <a id='rf'></a>"
   ]
  },
  {
   "cell_type": "code",
   "execution_count": 62,
   "metadata": {},
   "outputs": [],
   "source": [
    "# initialize classifier\n",
    "rf = RandomForestClassifier()\n",
    "\n",
    "# set evaluator\n",
    "f1_evaluator = MulticlassClassificationEvaluator(metricName='f1')\n",
    "\n",
    "# build paramGrid\n",
    "paramGrid = ParamGridBuilder() \\\n",
    "    .build()\n",
    "\n",
    "crossval_rf = CrossValidator(estimator=rf,\n",
    "                          estimatorParamMaps=paramGrid,\n",
    "                          evaluator=f1_evaluator,\n",
    "                          numFolds=3)"
   ]
  },
  {
   "cell_type": "code",
   "execution_count": 63,
   "metadata": {},
   "outputs": [
    {
     "name": "stdout",
     "output_type": "stream",
     "text": [
      "The training process took 1220.6458237171173 seconds\n"
     ]
    }
   ],
   "source": [
    "start = time()\n",
    "cvModel_rf = crossval_rf.fit(train)\n",
    "end = time()\n",
    "cvModel_rf.avgMetrics\n",
    "print('The training process took {} seconds'.format(end - start))"
   ]
  },
  {
   "cell_type": "code",
   "execution_count": 64,
   "metadata": {},
   "outputs": [],
   "source": [
    "results_rf = cvModel_rf.transform(validation)"
   ]
  },
  {
   "cell_type": "code",
   "execution_count": 65,
   "metadata": {},
   "outputs": [
    {
     "name": "stdout",
     "output_type": "stream",
     "text": [
      "Random Forest Metrics:\n",
      "Accuracy: 0.7755102040816326\n",
      "F-1 Score:0.708073108761577\n"
     ]
    }
   ],
   "source": [
    "evaluator = MulticlassClassificationEvaluator(predictionCol=\"prediction\")\n",
    "print('Random Forest Metrics:')\n",
    "print('Accuracy: {}'.format(evaluator.evaluate(results_rf, {evaluator.metricName: \"accuracy\"})))\n",
    "print('F-1 Score:{}'.format(evaluator.evaluate(results_rf, {evaluator.metricName: \"f1\"})))"
   ]
  },
  {
   "cell_type": "markdown",
   "metadata": {},
   "source": [
    "#### Model summary: <a id='model_summary'></a>\n",
    "* The logistic regression model has a accuracy of: 0.735, and F1 score of:0.622, using 1047.5 seconds on our server.\n",
    "* The gradient boosted trees model has a accuracy of: 0.776, and F1 score of: 0.756, using 1560.5 seconds on our server.\n",
    "* The support vector machine model has a accuracy of: 0.735, and F1 score of: 0.622, using 1184.0 seconds on our server.\n",
    "* The random forest model has a accuracy of: 0.776, and F1 score of: 0.708, using 1220.6 seconds on our server.\n",
    "\n",
    "\n",
    "\n",
    "Although we do care about time resources, but since the data size is still reletively small, and the performance difference is huge, we will prefer the model that perform the best. Therefore, we choose GBT model as our final used model and conduct a grid search to fine tune our model this time. \n",
    "\n",
    "In the future, we may instead implement random forest model for more time efficiency."
   ]
  },
  {
   "cell_type": "markdown",
   "metadata": {},
   "source": [
    "#### Hyperparams tunning <a id='tuning'></a>\n",
    "\n",
    "We use grid search to fine tune our GBT Classifier. We mainly tuned two parameters, `maxDepth` and `maxIter`."
   ]
  },
  {
   "cell_type": "code",
   "execution_count": 68,
   "metadata": {},
   "outputs": [],
   "source": [
    "GBTClassifier(maxIter=10,seed=42)\n",
    "\n",
    "# build paramGrid\n",
    "paramGrid_gbt = ParamGridBuilder() \\\n",
    "    .addGrid(gbt.maxDepth,[5, 10]) \\\n",
    "    .addGrid(gbt.maxIter, [10,15]) \\\n",
    "    .build()\n",
    "\n",
    "# set evaluator\n",
    "f1_evaluator = MulticlassClassificationEvaluator(metricName='f1')\n",
    "\n",
    "crossval_gbt = CrossValidator(estimator=gbt,\n",
    "                          estimatorParamMaps=paramGrid_gbt,\n",
    "                          evaluator=f1_evaluator,\n",
    "                          numFolds=3)"
   ]
  },
  {
   "cell_type": "code",
   "execution_count": 69,
   "metadata": {},
   "outputs": [
    {
     "data": {
      "text/plain": [
       "[0.7585510165523377, 0.739135085153991, 0.7027674008900453, 0.7027674008900453]"
      ]
     },
     "execution_count": 69,
     "metadata": {},
     "output_type": "execute_result"
    }
   ],
   "source": [
    "cvModel_gbt = crossval_gbt.fit(train)\n",
    "cvModel_gbt.avgMetrics"
   ]
  },
  {
   "cell_type": "markdown",
   "metadata": {},
   "source": [
    "#### Best model <a id='best_model'></a>"
   ]
  },
  {
   "cell_type": "code",
   "execution_count": 60,
   "metadata": {},
   "outputs": [],
   "source": [
    "gbt_best = GBTClassifier(maxIter=10,seed=42, maxDepth=5)\n",
    "gbt_best_model = gbt_best.fit(train)\n",
    "results_final = gbt_best_model.transform(test)"
   ]
  },
  {
   "cell_type": "markdown",
   "metadata": {},
   "source": [
    "#### Final result metrics <a id='final_metrics'></a>"
   ]
  },
  {
   "cell_type": "code",
   "execution_count": 48,
   "metadata": {},
   "outputs": [
    {
     "name": "stdout",
     "output_type": "stream",
     "text": [
      "Test set metrics:\n",
      "Accuracy: 0.8083333333333333\n",
      "F-1 Score:0.8001424501424502\n"
     ]
    }
   ],
   "source": [
    "evaluator = MulticlassClassificationEvaluator(predictionCol=\"prediction\")\n",
    "print('Test set metrics:')\n",
    "print('Accuracy: {}'.format(evaluator.evaluate(results_final, {evaluator.metricName: \"accuracy\"})))\n",
    "print('F-1 Score:{}'.format(evaluator.evaluate(results_final, {evaluator.metricName: \"f1\"})))"
   ]
  },
  {
   "cell_type": "markdown",
   "metadata": {},
   "source": [
    "#### Feature Importance from GBT model <a id='importance'></a>"
   ]
  },
  {
   "cell_type": "code",
   "execution_count": 49,
   "metadata": {},
   "outputs": [
    {
     "data": {
      "image/png": "[encoded data removed]",
      "text/plain": [
       "<matplotlib.figure.Figure at 0x2af64eab9400>"
      ]
     },
     "metadata": {},
     "output_type": "display_data"
    }
   ],
   "source": [
    "feat_imp = gbt_best_model.featureImportances.values\n",
    "cols = [\"lifetime\", \"total_songs\", \"num_thumb_up\", \\\n",
    "          'num_thumb_down','add_to_playlist','add_friend','listen_time','avg_songs_played', \\\n",
    "        'gender', 'artist_count']\n",
    "y_pos = np.arange(len(cols))\n",
    " \n",
    "plt.barh(y_pos, feat_imp, align='center')\n",
    "plt.yticks(y_pos, cols)\n",
    "plt.xlabel('Importance Score')\n",
    "plt.title('GBT Feature Importances');"
   ]
  },
  {
   "cell_type": "markdown",
   "metadata": {},
   "source": [
    "We utilized the feature importance attribute of the Gradient Boosted Tree model. From the chart, we can see length of using the service actually plays a very important role. But this may be biased by the fact that those who churned definitely had shorter period of time using the service, and thus, we may re-consider our model or do some transformation to reduce the bias. Other than that, number of thumbs down, number of friend added and number of songs added to the playlist also play important role. For example, large number of thumbs down may indicate that our service cannot correctly recommend songs to user; large number of songs added may indicate that the user loves the song provided by our service, etc."
   ]
  },
  {
   "cell_type": "markdown",
   "metadata": {},
   "source": [
    "## Conclusion <a id='conclusion'></a>"
   ]
  },
  {
   "cell_type": "markdown",
   "metadata": {},
   "source": [
    "### Summary\n",
    "In this notebook, we implemented a model trying to predict customer churn. We removed rows with no userId, converted timestamp to a human readable format, converted gender to binary numeric column. 10 features were built for our model. We selected 4 models: logistic regression, GBM, SVM, and RF to compare and select GBM as the final model implemented for predicting final result. We used cross validation and grid search to fine tune our model. We achieved about 80% accuracy, and 0.81 F1 score, which is about 15% improvement compare to our baseline model - sending everyone an offer."
   ]
  },
  {
   "cell_type": "markdown",
   "metadata": {},
   "source": [
    "### Reflection\n",
    "This project gives exposure to spark environment to analyze a large volume of data that a personal laptop may not be capable to analyze. By identifying customer with high chance to churn prior to the acutal losing, companies are able to use minimal cost to save customers by using targeted messages and offers. \n",
    "\n",
    "One of the interesting yet difficult things during the project is brainstroming the features that we can derived from the data we have on hand. Developing useful features is crucial to developing a good model, and requires a lot of energy and efforts. Explanatory and exploratory data analysis play important role in this process."
   ]
  },
  {
   "cell_type": "markdown",
   "metadata": {},
   "source": [
    "### Improvement\n",
    "The features can be improved a lot after considering more factors, adding more domain knowledges and expertise. Although the volume of data may required tools such as spark to analyze, but we can use more data to have better results as the user base grow.\n",
    "\n",
    "Currently, we have about 450 records of unique users, and we only use 60% of them to train. That said, the model has a huge potential to improve if the sample size increase, and the expected performance will also increase."
   ]
  }
 ],
 "metadata": {
  "kernelspec": {
   "display_name": "Python 3",
   "language": "python",
   "name": "python3"
  },
  "language_info": {
   "codemirror_mode": {
    "name": "ipython",
    "version": 3
   },
   "file_extension": ".py",
   "mimetype": "text/x-python",
   "name": "python",
   "nbconvert_exporter": "python",
   "pygments_lexer": "ipython3",
   "version": "3.6.7"
  }
 },
 "nbformat": 4,
 "nbformat_minor": 2
}
